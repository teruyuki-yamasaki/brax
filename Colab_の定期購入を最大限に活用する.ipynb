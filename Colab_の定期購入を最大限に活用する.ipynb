{
  "cells": [
    {
      "cell_type": "markdown",
      "metadata": {
        "id": "view-in-github",
        "colab_type": "text"
      },
      "source": [
        "<a href=\"https://colab.research.google.com/github/teruyuki-yamasaki/brax/blob/main/Colab_%E3%81%AE%E5%AE%9A%E6%9C%9F%E8%B3%BC%E5%85%A5%E3%82%92%E6%9C%80%E5%A4%A7%E9%99%90%E3%81%AB%E6%B4%BB%E7%94%A8%E3%81%99%E3%82%8B.ipynb\" target=\"_parent\"><img src=\"https://colab.research.google.com/assets/colab-badge.svg\" alt=\"Open In Colab\"/></a>"
      ]
    },
    {
      "cell_type": "markdown",
      "metadata": {
        "id": "SKQ4bH7qMGrA"
      },
      "source": [
        "# Colab の定期購入を最大限に活用する\n",
        "\n"
      ]
    },
    {
      "cell_type": "markdown",
      "metadata": {
        "id": "QMMqmdiYMkvi"
      },
      "source": [
        "## より速い GPU\n",
        "\n",
        "Colab Pro を使用すると、Google の最速 GPU を優先的に利用できます。Colab Pro+ ならば、さらに性能能の良い GPU を利用できるようになります。たとえば、標準の Colab ユーザーに K80 GPU が割り当てられているときでも、Colab Pro ユーザーはより速い T4 や P100 GPU を利用できます。次のセルを実行することで、どの GPU が割り当てられているかをいつでも確認できます。\n",
        "\n",
        "以下のコードセルの実行結果が「Not connected to a GPU」の場合、メニューで &#91;ランタイム&#93; &gt; &#91;ランタイムのタイプを変更&#93; に移動して GPU アクセラレータを有効にし、ランタイムを変更できます。その後、コードセルを再度実行します。"
      ]
    },
    {
      "cell_type": "code",
      "execution_count": 1,
      "metadata": {
        "colab": {
          "base_uri": "https://localhost:8080/"
        },
        "id": "23TOba33L4qf",
        "outputId": "92c4d197-fe5f-41a8-be7c-34f94664e8cf"
      },
      "outputs": [
        {
          "output_type": "stream",
          "name": "stdout",
          "text": [
            "Mon Jun  6 09:51:17 2022       \n",
            "+-----------------------------------------------------------------------------+\n",
            "| NVIDIA-SMI 460.32.03    Driver Version: 460.32.03    CUDA Version: 11.2     |\n",
            "|-------------------------------+----------------------+----------------------+\n",
            "| GPU  Name        Persistence-M| Bus-Id        Disp.A | Volatile Uncorr. ECC |\n",
            "| Fan  Temp  Perf  Pwr:Usage/Cap|         Memory-Usage | GPU-Util  Compute M. |\n",
            "|                               |                      |               MIG M. |\n",
            "|===============================+======================+======================|\n",
            "|   0  Tesla P100-PCIE...  Off  | 00000000:00:04.0 Off |                    0 |\n",
            "| N/A   35C    P0    27W / 250W |      0MiB / 16280MiB |      0%      Default |\n",
            "|                               |                      |                  N/A |\n",
            "+-------------------------------+----------------------+----------------------+\n",
            "                                                                               \n",
            "+-----------------------------------------------------------------------------+\n",
            "| Processes:                                                                  |\n",
            "|  GPU   GI   CI        PID   Type   Process name                  GPU Memory |\n",
            "|        ID   ID                                                   Usage      |\n",
            "|=============================================================================|\n",
            "|  No running processes found                                                 |\n",
            "+-----------------------------------------------------------------------------+\n"
          ]
        }
      ],
      "source": [
        "gpu_info = !nvidia-smi\n",
        "gpu_info = '\\n'.join(gpu_info)\n",
        "if gpu_info.find('failed') >= 0:\n",
        "  print('Not connected to a GPU')\n",
        "else:\n",
        "  print(gpu_info)"
      ]
    },
    {
      "cell_type": "markdown",
      "metadata": {
        "id": "Sa-IrJS1aRVJ"
      },
      "source": [
        "ノートパソコンで GPU を使用するには、&#91;ランタイム&#93; &#62; &#91;ランタイムのタイプを変更&#93; のメニューを選択してから、ハードウェア アクセラレーションのプルダウンを &#91;GPU&#93; に設定します。"
      ]
    },
    {
      "cell_type": "markdown",
      "metadata": {
        "id": "65MSuHKqNeBZ"
      },
      "source": [
        "## より多くのメモリ\n",
        "\n",
        "<p>Colab Pro でオプションを設定すれば、空き次第でハイメモリ VM にアクセスできます。ハイメモリ ランタイムを使用できるようにノートパソコンを設定する場合は、&#91;ランタイム&#93; &#62; &#91;ランタイムのタイプを変更&#93; のメニューを選択してから、ランタイムの仕様のプルダウンで &#91;ハイメモリ&#93; を選択します。</p>\n",
        "<p>次のコードセルを実行することで、いつでも使用可能なメモリ量がどれくらいあるかを確認できます。</p>\n",
        "以下のコードセルの実行結果が「Not using a high-RAM runtime」の場合、メニュー内の &#91;ランタイム&#93; &gt; &#91;ランタイムのタイプを変更&#93; で RAM 増量ランタイムを有効にできます。その際、ランタイムの仕様のプルダウンで &#91;ハイメモリ&#93; を選択します。その後、コードセルを再実行します。"
      ]
    },
    {
      "cell_type": "code",
      "execution_count": 1,
      "metadata": {
        "colab": {
          "base_uri": "https://localhost:8080/"
        },
        "id": "V1G82GuO-tez",
        "outputId": "40bdeae8-4f5c-448d-bec2-e2d2528e9174"
      },
      "outputs": [
        {
          "output_type": "stream",
          "name": "stdout",
          "text": [
            "Your runtime has 27.3 gigabytes of available RAM\n",
            "\n",
            "You are using a high-RAM runtime!\n"
          ]
        }
      ],
      "source": [
        "from psutil import virtual_memory\n",
        "ram_gb = virtual_memory().total / 1e9\n",
        "print('Your runtime has {:.1f} gigabytes of available RAM\\n'.format(ram_gb))\n",
        "\n",
        "if ram_gb < 20:\n",
        "  print('Not using a high-RAM runtime')\n",
        "else:\n",
        "  print('You are using a high-RAM runtime!')"
      ]
    },
    {
      "cell_type": "markdown",
      "metadata": {
        "id": "BJW8Qi-pPpep"
      },
      "source": [
        "## より長時間の使用\n",
        "\n",
        "すべての Colab のランタイムは一定期間後にリセットされます（ランタイムがコードを実行していない場合はより早くリセットされます）。Colab Pro の登録者にも制限がありますが、未登録のユーザーはその制限が約 2 倍になります。Colab Pro+ では安定性がさらに高まります。"
      ]
    },
    {
      "cell_type": "markdown",
      "metadata": {
        "id": "uLlTRcMM_h0k"
      },
      "source": [
        "## Colab Pro のリソース制限\n",
        "\n",
        "Colab ではリソースの利用に制限があります。Colab Pro と Colab Pro+ を最大限に活用するためには、必要のないリソースを使用するのは避けてください。たとえば、必要なときだけ GPU ランタイムまたは RAM 増量ランタイムを使用し、作業が完了したら Colab のタブを閉じてください。\n"
      ]
    },
    {
      "cell_type": "markdown",
      "metadata": {
        "id": "mm8FzEidvPs6"
      },
      "source": [
        "## フィードバックのお願い\n",
        "\n",
        "<p>ご意見がございましたら、Google までお問い合わせください。フィードバックを送信する場合は、&#91;ヘルプ&#93; &#62; &#91;フィードバックを送信&#93; をご使用ください。また、Colab Pro で使用量上限に達した場合は、Colab Pro+ への登録をご検討ください。すべての制限を撤廃する無制限の従量課金制に関心がある場合は Google にぜひお知らせください。</p>\n",
        "<p>Colab Pro や Colab Pro+ でご請求（お支払い）のエラーやその他の問題が発生した場合は、<a href=\"mailto:colab-billing@google.com\">colab-billing@google.com</a> までメールでご連絡ください。</p>"
      ]
    },
    {
      "cell_type": "markdown",
      "metadata": {
        "id": "qB3bdLe8jkAa"
      },
      "source": [
        "## その他のリソース\n",
        "\n",
        "### Colab でのノートブックの操作\n",
        "- [Colaboratory の概要](/notebooks/basic_features_overview.ipynb)\n",
        "- [markdown のガイド](/notebooks/markdown_guide.ipynb)\n",
        "- [ライブラリのインポートと依存関係のインストール](/notebooks/snippets/importing_libraries.ipynb)\n",
        "- [GitHub でのノートブックの保存と読み込み](https://colab.research.google.com/github/googlecolab/colabtools/blob/master/notebooks/colab-github-demo.ipynb)\n",
        "- [インタラクティブなフォーム](/notebooks/forms.ipynb)\n",
        "- [インタラクティブなウィジェット](/notebooks/widgets.ipynb)\n",
        "- <img src=\"/img/new.png\" height=\"20px\" align=\"left\" hspace=\"4px\" alt=\"New\"></img>\n",
        " [Colab の TensorFlow 2](/notebooks/tensorflow_version.ipynb)\n",
        "\n",
        "<a name=\"working-with-data\"></a>\n",
        "### データの操作\n",
        "- [データの読み込み: ドライブ、スプレッドシート、Google Cloud Storage](/notebooks/io.ipynb) \n",
        "- [グラフ: データの視覚化](/notebooks/charts.ipynb)\n",
        "- [BigQuery を使ってみる](/notebooks/bigquery.ipynb)\n",
        "\n",
        "### 機械学習の集中講座\n",
        "Google の機械学習に関するオンライン コースからいくつかのノートブックをご紹介します。詳しくは、<a href=\"https://developers.google.com/machine-learning/crash-course/\">全コースのウェブサイト</a>をご覧ください。\n",
        "- [Pandas DataFrame の概要](https://colab.research.google.com/github/google/eng-edu/blob/main/ml/cc/exercises/pandas_dataframe_ultraquick_tutorial.ipynb)\n",
        "- [合成データを使用した tf.keras による線形回帰](https://colab.research.google.com/github/google/eng-edu/blob/main/ml/cc/exercises/linear_regression_with_synthetic_data.ipynb)\n",
        "\n",
        "\n",
        "<a name=\"using-accelerated-hardware\"></a>\n",
        "### アクセラレータの使用\n",
        "- [TensorFlow と GPU](/notebooks/gpu.ipynb)\n",
        "- [TensorFlow と TPU](/notebooks/tpu.ipynb)"
      ]
    },
    {
      "cell_type": "markdown",
      "metadata": {
        "id": "RFm2S0Gijqo8"
      },
      "source": [
        "<a name=\"machine-learning-examples\"></a>\n",
        "\n",
        "## 機械学習の例\n",
        "\n",
        "Colaboratory で実現したインタラクティブな機械学習解析のさまざまな応用例は、<a href=\"https://tfhub.dev\">TensorFlow Hub</a> のモデルを活用したチュートリアルでご紹介しています。\n",
        "\n",
        "おすすめの例をご紹介します。\n",
        "\n",
        "- <a href=\"https://tensorflow.org/hub/tutorials/tf2_image_retraining\">画像分類の再トレーニング</a>: 事前トレーニング済みの画像分類を再利用して Keras モデルを構築し、花を分類します。\n",
        "- <a href=\"https://tensorflow.org/hub/tutorials/tf2_text_classification\">テキスト分類</a>: IMDB の映画レビューをポジティブ<em></em>なレビューとネガティブ<em></em>なレビューに分類します。\n",
        "- <a href=\"https://tensorflow.org/hub/tutorials/tf2_arbitrary_image_stylization\">スタイル転送</a>: ディープ ラーニングを使用して画像間でスタイルを転送します。\n",
        "- <a href=\"https://tensorflow.org/hub/tutorials/retrieval_with_tf_hub_universal_encoder_qa\">Multilingual Universal Sentence Encoder の Q&A</a>: 機械学習モデルを使用して、SQuAD データベースからの質問に回答します。\n",
        "- <a href=\"https://tensorflow.org/hub/tutorials/tweening_conv3d\">動画の補間</a>: 動画の最初のフレームと最後のフレームの間に何か起こったのかを予測します。\n"
      ]
    }
  ],
  "metadata": {
    "colab": {
      "collapsed_sections": [],
      "name": "Colab の定期購入を最大限に活用する",
      "provenance": [],
      "machine_shape": "hm",
      "include_colab_link": true
    },
    "kernelspec": {
      "display_name": "Python 3",
      "name": "python3"
    },
    "accelerator": "GPU"
  },
  "nbformat": 4,
  "nbformat_minor": 0
}